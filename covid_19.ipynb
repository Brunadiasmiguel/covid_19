{
 "cells": [
  {
   "cell_type": "markdown",
   "id": "a225d8c2-9f23-43f8-8edf-050d113d0669",
   "metadata": {},
   "source": [
    "# Libraries "
   ]
  },
  {
   "cell_type": "code",
   "execution_count": null,
   "id": "08b63e39-0ace-4b05-9c6e-278fc6771cfa",
   "metadata": {},
   "outputs": [],
   "source": [
    "import pandas as pd\n",
    "import numpy as np\n",
    "import os\n",
    "import datetime as dt\n",
    "import io\n",
    "import requests\n",
    "import os"
   ]
  },
  {
   "cell_type": "markdown",
   "id": "dd51e479-adab-4e08-9087-7cb2fe19e803",
   "metadata": {},
   "source": [
    "# Covid Cases"
   ]
  },
  {
   "cell_type": "code",
   "execution_count": null,
   "id": "f03f132e-6e82-49c8-ba64-1e409bad8b19",
   "metadata": {},
   "outputs": [],
   "source": [
    "# COVID cases\n",
    "try:\n",
    "    url = \"https://raw.githubusercontent.com/CSSEGISandData/COVID-19/master/csse_covid_19_data/csse_covid_19_time_series/time_series_covid19_confirmed_global.csv\"\n",
    "    s = requests.get(url).content\n",
    "    df = pd.read_csv(io.StringIO(s.decode('utf-8')))\n",
    "    df.columns = df.columns[:4].tolist() + pd.to_datetime(df.columns[4:]).tolist()\n",
    "    df.columns = df.columns[:4].tolist() + [i.strftime(\"%Y-%m-%d\") for i in df.columns[4:].tolist()]\n",
    "    \n",
    "    #Aggregate over Countries\n",
    "    df.drop(['Province/State','Lat','Long'], axis=1, inplace=True)\n",
    "    df = df.groupby(['Country/Region']).sum().reset_index()\n",
    "    #Wide to long format\n",
    "    df = pd.melt(df,id_vars=['Country/Region'],var_name='Date', value_name='Cases')\n",
    "    \n",
    "    #Rename\n",
    "    df_covid = df.rename(index=str, columns={\"Country/Region\": \"Country\"})\n",
    "    df_covid.to_csv(\"covid-19_cases.csv\",index=False)\n",
    "except:\n",
    "    df_covid = pd.read_csv('covid-19_cases.csv')"
   ]
  },
  {
   "cell_type": "code",
   "execution_count": null,
   "id": "5260e6d8-1b8e-4127-8620-d2faa86d7a2f",
   "metadata": {
    "tags": []
   },
   "outputs": [],
   "source": [
    "#confirm\n",
    "\n",
    "df_covid"
   ]
  },
  {
   "cell_type": "code",
   "execution_count": null,
   "id": "76a4fceb-7681-4995-a883-3f026d86ac93",
   "metadata": {
    "tags": []
   },
   "outputs": [],
   "source": [
    "# check some countries\n",
    "\n",
    "df_covid[df_covid['Country']=='New Zealand']"
   ]
  },
  {
   "cell_type": "code",
   "execution_count": null,
   "id": "1e427760-fd14-4fa8-84c6-e8282b102a95",
   "metadata": {
    "tags": []
   },
   "outputs": [],
   "source": [
    "# define it as I want\n",
    "\n",
    "df_covid['Country'] = np.where(df_covid['Country'] == 'Israel','IL',df_covid['Country'])\n",
    "df_covid['Country'] = np.where(df_covid['Country'] == 'US','US',df_covid['Country'])\n",
    "df_covid['Country'] = np.where(df_covid['Country'] == 'Germany','DE',df_covid['Country'])\n",
    "df_covid['Country'] = np.where(df_covid['Country'] == 'United Kingdom','GB',df_covid['Country'])\n",
    "df_covid['Country'] = np.where(df_covid['Country'] == 'Italy','IT',df_covid['Country'])\n",
    "df_covid['Country'] = np.where(df_covid['Country'] == 'France','FR',df_covid['Country'])\n",
    "df_covid['Country'] = np.where(df_covid['Country'] == 'Mexico','MX',df_covid['Country'])\n",
    "df_covid['Country'] = np.where(df_covid['Country'] == 'Malta','MT',df_covid['Country'])\n",
    "df_covid['Country'] = np.where(df_covid['Country'] == 'India','IN',df_covid['Country'])\n",
    "df_covid['Country'] = np.where(df_covid['Country'] == 'Brazil','BR',df_covid['Country'])\n",
    "df_covid['Country'] = np.where(df_covid['Country'] == 'Russia','RU',df_covid['Country'])  #loose lockdown\n",
    "df_covid['Country'] = np.where(df_covid['Country'] == 'Australia','AU',df_covid['Country']) #loose lockdown\n",
    "df_covid['Country'] = np.where(df_covid['Country'] == 'New Zealand','NZ',df_covid['Country']) #loose lockdown\n",
    "df_covid['Country'] = np.where(df_covid['Country'] == 'Hungary','HU',df_covid['Country']) #high vaccination, high death rate\n",
    "df_covid['Country'] = np.where(df_covid['Country'] == 'Spain','ES',df_covid['Country'])\n",
    "df_covid['Country'] = np.where(df_covid['Country'] == 'Ireland','IE',df_covid['Country']) #to compare with UK\n",
    "df_covid['Country'] = np.where(df_covid['Country'] == 'China','CN',df_covid['Country'])\n",
    "df_covid['Country'] = np.where(df_covid['Country'] == 'Hong Kong','HK',df_covid['Country'])\n",
    "df_covid['Country'] = np.where(df_covid['Country'] == 'Portugal','PT',df_covid['Country']) #proximity and delta cases\n",
    "df_covid['Country'] = np.where(df_covid['Country'] == 'Spain','ES',df_covid['Country']) #beg of lockdown\n",
    "df_covid['Country'] = np.where(df_covid['Country'] == 'Indonesia','ID',df_covid['Country'])\n",
    "df_covid['Country'] = np.where(df_covid['Country'] == 'Philippines','PH',df_covid['Country'])\n",
    "df_covid['Country'] = np.where(df_covid['Country'] == 'Sweden','SE',df_covid['Country']) # government lose, did it change user behavior?"
   ]
  },
  {
   "cell_type": "code",
   "execution_count": null,
   "id": "cb2f013f-ac23-4157-b149-76d7c73a1907",
   "metadata": {
    "tags": []
   },
   "outputs": [],
   "source": [
    "# check\n",
    "\n",
    "df_covid[df_covid['Country'] == 'US']"
   ]
  },
  {
   "cell_type": "code",
   "execution_count": null,
   "id": "6149a76f-8497-4933-b00b-fd3475672bad",
   "metadata": {
    "tags": []
   },
   "outputs": [],
   "source": [
    "# create filters for the countries of interess\n",
    "\n",
    "df_covid=df_covid[(df_covid['Country']==\"MT\") | \n",
    "            (df_covid['Country']==\"US\") |\n",
    "            (df_covid['Country']==\"DE\") |\n",
    "            (df_covid['Country']==\"IL\") |\n",
    "            (df_covid['Country']==\"GB\") |\n",
    "            (df_covid['Country']==\"BR\") |\n",
    "            (df_covid['Country']==\"IE\") |\n",
    "            (df_covid['Country']==\"PT\") |\n",
    "            (df_covid['Country']==\"ES\") |\n",
    "            (df_covid['Country']==\"IT\") |\n",
    "            (df_covid['Country']==\"IN\") |\n",
    "            (df_covid['Country']==\"FR\") |     \n",
    "            (df_covid['Country']==\"NZ\") |\n",
    "            (df_covid['Country']==\"TR\") |\n",
    "            (df_covid['Country']==\"AR\") |\n",
    "             (df_covid['Country']==\"CO\") |\n",
    "            (df_covid['Country']==\"PL\") |\n",
    "            (df_covid['Country']==\"MX\") |\n",
    "            (df_covid['Country']==\"CA\") |\n",
    "            (df_covid['Country']==\"NL\") |\n",
    "            (df_covid['Country']==\"ZA\") |\n",
    "            (df_covid['Country']==\"ID\") |\n",
    "            (df_covid['Country']==\"PH\") |\n",
    "             (df_covid['Country']==\"HU\") |\n",
    "            (df_covid['Country']==\"TH\") |\n",
    "            (df_covid['Country']==\"CN\") | \n",
    "            (df_covid['Country']==\"HK\") |\n",
    "             (df_covid['Country']==\"SE\") |\n",
    "            (df_covid['Country']==\"RU\") |\n",
    "              (df_covid['Country']==\"AU\") ]"
   ]
  },
  {
   "cell_type": "code",
   "execution_count": null,
   "id": "5e31265f-2ef8-426e-b63f-ce0d978d4689",
   "metadata": {
    "tags": []
   },
   "outputs": [],
   "source": [
    "# check\n",
    "\n",
    "df_covid"
   ]
  },
  {
   "cell_type": "markdown",
   "id": "8ae87e13-ff57-46a5-9e02-faeefdb7c8e5",
   "metadata": {},
   "source": [
    "# Stringency and measures"
   ]
  },
  {
   "cell_type": "code",
   "execution_count": null,
   "id": "2f5f01c3-b38e-4918-ae6e-5bbf55d56c4f",
   "metadata": {
    "tags": []
   },
   "outputs": [],
   "source": [
    "#fetch stringency data\n",
    "\n",
    "urlmeasures='https://raw.githubusercontent.com/OxCGRT/covid-policy-tracker/master/data/OxCGRT_latest.csv'\n",
    "smeasures = requests.get(urlmeasures).content\n",
    "df_stringency = pd.read_csv(io.StringIO(smeasures.decode('utf-8')))"
   ]
  },
  {
   "cell_type": "code",
   "execution_count": null,
   "id": "6401bc71-cbc3-4d7c-b0ca-4333675e3807",
   "metadata": {
    "tags": []
   },
   "outputs": [],
   "source": [
    "#convert date format\n",
    "\n",
    "df_stringency['Date'] = pd.to_datetime((df_stringency.Date).apply(str),format='%Y%m%d')"
   ]
  },
  {
   "cell_type": "code",
   "execution_count": null,
   "id": "b8f5657d-ca79-48d7-94c6-5b37a3aaa6c2",
   "metadata": {},
   "outputs": [],
   "source": [
    "#check\n",
    "\n",
    "df_stringency.head()"
   ]
  },
  {
   "cell_type": "markdown",
   "id": "d716f36f-5cfa-41f3-8610-bffb851d9431",
   "metadata": {},
   "source": [
    "# Vaccination data"
   ]
  },
  {
   "cell_type": "code",
   "execution_count": null,
   "id": "07aee1b6-354a-4725-88a1-a4d50c0e70da",
   "metadata": {
    "tags": []
   },
   "outputs": [],
   "source": [
    "# people vaccinated per hundred\n",
    "\n",
    "urlvac='https://raw.githubusercontent.com/owid/covid-19-data/master/public/data/vaccinations/vaccinations.csv'\n",
    "svac = requests.get(urlvac).content\n",
    "df_vaccine = pd.read_csv(io.StringIO(svac.decode('utf-8')))\n",
    "df_vaccine.columns = df_vaccine.columns.tolist() \n",
    "#df1.columns = df1.columns[:4].tolist() + [i.strftime(\"%Y-%m-%d\") for i in df.columns[4:].tolist()]\n",
    "#df_vac = pd.read_csv(io.StringIO(svac.decode('utf-8')))\n",
    "df_vaccine"
   ]
  },
  {
   "cell_type": "code",
   "execution_count": null,
   "id": "172517ec-8cc6-48bd-a61d-d328db9e455a",
   "metadata": {
    "tags": []
   },
   "outputs": [],
   "source": [
    "# some changes to df\n",
    "\n",
    "df_vaccine=df_vaccine[[\"date\",\"location\",\"iso_code\",\"people_vaccinated_per_hundred\",\"people_fully_vaccinated_per_hundred\"]]\n",
    "df_vaccine = df_vaccine.rename(index=str, columns={\"date\":\"Date\",\n",
    "                                                   \"location\":\"Entity\",\n",
    "                                                   \"iso_code\":\"Code\",\n",
    "                                                    \"people_vaccinated_per_hundred\": \"People Vaccinated (%)\",\n",
    "                                                  \"people_fully_vaccinated_per_hundred\":\"People Fully Vaccinated (%)\"})\n",
    "df_vaccine.Date = df_vaccine.Date.astype(str)\n",
    "df_vaccine.Code = df_vaccine.Code.astype(str)"
   ]
  },
  {
   "cell_type": "code",
   "execution_count": null,
   "id": "3d8b72ad-a983-4048-b214-e0134d5a80b5",
   "metadata": {
    "tags": []
   },
   "outputs": [],
   "source": [
    "# check \n",
    "\n",
    "df_vaccine"
   ]
  },
  {
   "cell_type": "markdown",
   "id": "654a0084-2f58-4c8e-8cf8-1bceb9bd82a5",
   "metadata": {},
   "source": [
    "# iOS Category Data"
   ]
  },
  {
   "cell_type": "code",
   "execution_count": null,
   "id": "ab481e34-c9c7-4aa2-825b-954d0430fd97",
   "metadata": {},
   "outputs": [],
   "source": [
    "# select end date for API request\n",
    "\n",
    "end_date = '2021-12-31'"
   ]
  },
  {
   "cell_type": "code",
   "execution_count": null,
   "id": "2530d007-2dbd-4506-b4ae-34cc812cdd17",
   "metadata": {},
   "outputs": [],
   "source": [
    "#fetch data\n",
    "\n",
    "countries = ['MT','US','DE','IL','GB','BR','IE','PT','ES','IT','IN','FR','NZ','MX','ID','PH','HU','CN','HK','SE','RU','AU']\n",
    "             \n",
    "        \n",
    "countries_api = '%2C'.join(countries)\n",
    "categories=[\"6000\",\n",
    "      \"6003\",\n",
    "      \"6004\",\n",
    "      \"6005\",\n",
    "      \"6007\",\n",
    "      \"6008\",\n",
    "      \"6009\",\n",
    "      \"6011\",\n",
    "      \"6012\",\n",
    "      \"6013\",\n",
    "      \"6014\",\n",
    "      \"6015\",\n",
    "      \"6016\",\n",
    "      \"6017\",\n",
    "      \"6018\",\n",
    "      \"6020\",\n",
    "      \"6023\",\n",
    "      \"6024\",\n",
    "      \"6026\",\n",
    "      \"6027\",\n",
    "    \"9007\"]\n",
    "categories_api='%2C'.join(categories)\n",
    "\n",
    "start_date = '2020-01-01'\n",
    "\n",
    "\n",
    "api_ios='https://api.sensortower.com:443/v1/ios/store_summary?categories='+categories_api+'&countries='+countries_api+'&date_granularity=daily&start_date='+start_date+'&end_date='+end_date+'&auth_token=XXX'\n",
    "rios = requests.get(url=api_ios)\n",
    "iosdata = rios.json()"
   ]
  },
  {
   "cell_type": "code",
   "execution_count": null,
   "id": "5f3e0614-b946-4705-9be3-bc9deb21bef3",
   "metadata": {},
   "outputs": [],
   "source": [
    "# create dataframe\n",
    "\n",
    "dfios = pd.DataFrame(iosdata)\n",
    "dfios.head()"
   ]
  },
  {
   "cell_type": "code",
   "execution_count": null,
   "id": "55872502-3393-4ce7-a62b-05e38e9392fa",
   "metadata": {},
   "outputs": [],
   "source": [
    "# map categories\n",
    "\n",
    "catnames_update = {6000: \"Business\",\n",
    "      6003: \"Travel\",\n",
    "      6004: \"Sports\",\n",
    "      6005: \"Social Networking\",\n",
    "      6007: \"Productivity\",\n",
    "      6008: \"Photo & Video\",\n",
    "      6009: \"News\",\n",
    "      6011: \"Music\",\n",
    "      6012: \"Lifestyle\",\n",
    "      6013: \"Health & Fitness\",\n",
    "      6014: \"Games\",\n",
    "      6015: \"Finance\",\n",
    "      6016: \"Entertainment\",\n",
    "      6017: \"Education\",\n",
    "      6018: \"Books\",\n",
    "      6020: \"Medical\",\n",
    "      6023: \"Food & Drink\",\n",
    "      6024: \"Shopping\",\n",
    "      6026: \"Developer Tools\",\n",
    "      6027: \"Graphics & Design\",\n",
    "        9007:  \"Kids\"}\n",
    "\n",
    "dfios['Category Name'] = dfios['ca']"
   ]
  },
  {
   "cell_type": "code",
   "execution_count": null,
   "id": "25760594-aa76-4830-981a-e6f068ab2d42",
   "metadata": {},
   "outputs": [],
   "source": [
    "dfios[\"Category Name\"] = dfios[\"Category Name\"].map(catnames_update)"
   ]
  },
  {
   "cell_type": "code",
   "execution_count": null,
   "id": "87ed0941-1e3f-47da-8e8d-4e5a5f15b3d4",
   "metadata": {},
   "outputs": [],
   "source": [
    "dfios.head()"
   ]
  },
  {
   "cell_type": "code",
   "execution_count": null,
   "id": "d44789ef-caab-40f0-b42e-dd006b174d67",
   "metadata": {},
   "outputs": [],
   "source": [
    "#rename columns and update date type\n",
    "\n",
    "dfios = dfios.rename(index=str, columns={'ca': 'Category ID', \n",
    "                                   'cc': 'Country',\n",
    "                                  'd': 'Date',\n",
    "                                  'au': 'iPad Downloads',\n",
    "                                  'ar': 'iPad Revenue',\n",
    "                                  'iu': 'iPhone Downloads',\n",
    "                                  'ir': 'iPhone Revenue'})\n",
    "dfios['Date'] = pd.to_datetime(dfios['Date'])\n",
    "dfios.Date = dfios.Date.dt.strftime(\"%Y-%m-%d\")"
   ]
  },
  {
   "cell_type": "code",
   "execution_count": null,
   "id": "9d0ad7a5-6475-41a3-b130-8813547bcf16",
   "metadata": {},
   "outputs": [],
   "source": [
    "# select some\n",
    "\n",
    "dfios = dfios[[\"Category ID\",\"Category Name\",\"Country\",\"Date\",\"iPad Downloads\",\"iPad Revenue\",\"iPhone Downloads\",\"iPhone Revenue\"]]"
   ]
  },
  {
   "cell_type": "code",
   "execution_count": null,
   "id": "36c7993b-8333-4343-ae4b-9be126e6a841",
   "metadata": {},
   "outputs": [],
   "source": [
    "# sum iphone and ipad\n",
    "\n",
    "dfios[\"Category iPhone+iPad Downloads\"]=dfios[\"iPad Downloads\"]+dfios[\"iPhone Downloads\"]"
   ]
  },
  {
   "cell_type": "code",
   "execution_count": null,
   "id": "a5eb5ab1-2d8f-4138-b0b5-40e7711c3b0f",
   "metadata": {},
   "outputs": [],
   "source": [
    "#select some countries\n",
    "\n",
    "dfios=dfios[(dfios['Country']==\"MT\") | \n",
    "            (dfios['Country']==\"US\") |\n",
    "            (dfios['Country']==\"DE\") |\n",
    "            (dfios['Country']==\"IL\") |\n",
    "            (dfios['Country']==\"GB\") |\n",
    "            (dfios['Country']==\"BR\") |\n",
    "            (dfios['Country']==\"IE\") |\n",
    "            (dfios['Country']==\"PT\") |\n",
    "            (dfios['Country']==\"ES\") |\n",
    "            (dfios['Country']==\"IT\") |\n",
    "            (dfios['Country']==\"IN\") |\n",
    "            (dfios['Country']==\"FR\") |     \n",
    "            (dfios['Country']==\"NZ\") |\n",
    "            (dfios['Country']==\"TR\") |\n",
    "            (dfios['Country']==\"AR\") |\n",
    "             (dfios['Country']==\"CO\") |\n",
    "            (dfios['Country']==\"PL\") |\n",
    "            (dfios['Country']==\"MX\") |\n",
    "            (dfios['Country']==\"CA\") |\n",
    "            (dfios['Country']==\"NL\") |\n",
    "            (dfios['Country']==\"ZA\") |\n",
    "            (dfios['Country']==\"ID\") |\n",
    "            (dfios['Country']==\"PH\") |\n",
    "             (dfios['Country']==\"HU\") |\n",
    "            (dfios['Country']==\"TH\") |\n",
    "            (dfios['Country']==\"CN\") | \n",
    "            (dfios['Country']==\"HK\") |\n",
    "             (dfios['Country']==\"SE\") |\n",
    "            (dfios['Country']==\"RU\") |\n",
    "              (dfios['Country']==\"AU\") ]"
   ]
  },
  {
   "cell_type": "code",
   "execution_count": null,
   "id": "d8d3d62a-db62-4faf-aefd-a2650bd82af1",
   "metadata": {},
   "outputs": [],
   "source": [
    "#csv\n",
    "\n",
    "dfios.to_csv('category_downl_ios_daily.csv', index=False)"
   ]
  },
  {
   "cell_type": "markdown",
   "id": "15ff91b7-9c99-4302-9da4-4ca5a5eb6ebc",
   "metadata": {},
   "source": [
    "# Android Category Data"
   ]
  },
  {
   "cell_type": "code",
   "execution_count": null,
   "id": "d3a94890-d735-4bc5-ad3f-d190eb0bb69a",
   "metadata": {},
   "outputs": [],
   "source": [
    "#fetch data android\n",
    "\n",
    "categories_and=[ \"art_and_design\",\n",
    "      \"auto_and_vehicles\",\n",
    "      \"beauty\",\n",
    "      \"books_and_reference\",\n",
    "      \"business\",\n",
    "      \"communication\",\n",
    "      \"dating\",\n",
    "      \"education\",\n",
    "      \"entertainment\",\n",
    "      \"events\",\n",
    "      \"family\",\n",
    "      \"finance\",\n",
    "      \"food_and_drink\",\n",
    "      \"health_and_fitness\",\n",
    "      \"house_and_home\",\n",
    "      \"lifestyle\",\n",
    "      \"medical\",\n",
    "      \"music_and_audio\",\n",
    "      \"news_and_magazines\",\n",
    "      \"parenting\",\n",
    "      \"photography\",\n",
    "      \"productivity\",\n",
    "      \"shopping\",\n",
    "      \"social\",\n",
    "      \"sports\",\n",
    "      \"transportation\",\n",
    "      \"travel_and_local\",\n",
    "      \"video_players\",\n",
    "    \"game\"]\n",
    "categories_and_api='%2C'.join(categories_and)\n",
    "\n",
    "api_android='https://api.sensortower.com:443/v1/android/store_summary?categories='+categories_and_api+'&countries='+countries_api+'&date_granularity=daily&start_date='+start_date+'&end_date='+end_date+'&auth_token=XXX'\n",
    "randroid = requests.get(url=api_android)"
   ]
  },
  {
   "cell_type": "code",
   "execution_count": null,
   "id": "593b66a4-81fa-42a8-90e9-c6ac5bb0db37",
   "metadata": {},
   "outputs": [],
   "source": [
    "randroid = requests.get(api_android)"
   ]
  },
  {
   "cell_type": "code",
   "execution_count": null,
   "id": "0eb95cd8-32d7-47b5-ba06-a0dcc5c778d5",
   "metadata": {},
   "outputs": [],
   "source": [
    "if 'json' in randroid.headers.get('Content-Type'):\n",
    "    androiddata = randroid.json()\n",
    "else:\n",
    "    print('Response content is not in JSON format.')\n",
    "    androiddata = 'spam'"
   ]
  },
  {
   "cell_type": "code",
   "execution_count": null,
   "id": "78587da4-6dd9-44a7-b45e-b381706197d9",
   "metadata": {},
   "outputs": [],
   "source": [
    "# create dataframe\n",
    "\n",
    "dfand = pd.DataFrame(androiddata)\n",
    "dfand.head()"
   ]
  },
  {
   "cell_type": "code",
   "execution_count": null,
   "id": "28641051-23ab-4364-a1c4-ce39b5020906",
   "metadata": {},
   "outputs": [],
   "source": [
    "# category names mapping\n",
    "\n",
    "catnames_and = {\"art_and_design\": \"Art & Design\",\n",
    "      \"auto_and_vehicles\": \"Auto & Vehicles\",\n",
    "      \"beauty\": \"Beauty\",\n",
    "      \"books_and_reference\": \"Books & Reference\",\n",
    "      \"business\": \"Business\",\n",
    "      \"communication\": \"Communication\",\n",
    "      \"dating\": \"Dating\",\n",
    "      \"education\": \"Education\",\n",
    "      \"entertainment\": \"Entertainment\",\n",
    "      \"events\": \"Events\",\n",
    "      \"family\": \"Family\",\n",
    "      \"finance\": \"Finance\",\n",
    "      \"food_and_drink\": \"Food & Drink\",\n",
    "      \"health_and_fitness\": \"Health & Fitness\",\n",
    "      \"house_and_home\": \"House & Home\",\n",
    "      \"lifestyle\": \"Lifestyle\",\n",
    "      \"medical\": \"Medical\",\n",
    "      \"music_and_audio\": \"Music & Audio\",\n",
    "      \"news_and_magazines\": \"News & Magazines\",\n",
    "      \"parenting\": \"Parenting\",\n",
    "      \"photography\": \"Photography\",\n",
    "      \"productivity\": \"Productivity\",\n",
    "      \"shopping\": \"Shopping\",\n",
    "      \"social\": \"Social\",\n",
    "      \"sports\": \"Sports\",\n",
    "      \"transportation\": \"Transportation\",\n",
    "      \"travel_and_local\": \"Travel & Local\",\n",
    "      \"video_players\": \"Video Players & Editors\",\n",
    "    \"game\": \"Game\"}"
   ]
  },
  {
   "cell_type": "code",
   "execution_count": null,
   "id": "09043063-1e82-4ad3-9a0e-06c267a5db9d",
   "metadata": {},
   "outputs": [],
   "source": [
    "dfand['Category Name'] = dfand['ca']\n",
    "dfand[\"Category Name\"] = dfand[\"Category Name\"].map(catnames_and)"
   ]
  },
  {
   "cell_type": "code",
   "execution_count": null,
   "id": "a6800c72-fa9c-44f9-ba1d-c73bd5f8dda7",
   "metadata": {},
   "outputs": [],
   "source": [
    "#rename columns and update date type\n",
    "\n",
    "dfand = dfand.rename(index=str, columns={'ca': 'Category', \n",
    "                                   'cc': 'Country',\n",
    "                                  'd': 'Date',\n",
    "                                  'u': 'Units',\n",
    "                                  'r': 'Revenue'})\n",
    "dfand['Date'] = pd.to_datetime(dfand['Date'])\n",
    "dfand.Date = dfand.Date.dt.strftime(\"%Y-%m-%d\")"
   ]
  },
  {
   "cell_type": "code",
   "execution_count": null,
   "id": "d42816f9-5a3f-487d-84b0-68fcc243d0b3",
   "metadata": {},
   "outputs": [],
   "source": [
    "# further operations\n",
    "\n",
    "dfand=dfand[['Category','Category Name','Country','Date','Units','Revenue']]"
   ]
  },
  {
   "cell_type": "code",
   "execution_count": null,
   "id": "b95f778e-0492-46ea-a239-5b15b31360b3",
   "metadata": {},
   "outputs": [],
   "source": [
    "dfand.drop([\"Category\",\"Revenue\"], axis=1, inplace=True)\n",
    "dfand=dfand.fillna(0)"
   ]
  },
  {
   "cell_type": "code",
   "execution_count": null,
   "id": "9ceaeddd-f46e-4a59-9c0e-eb13d000a121",
   "metadata": {},
   "outputs": [],
   "source": [
    "dfand=dfand.rename(index=str,columns={\"Units\":\"Category Android Downloads\"})"
   ]
  },
  {
   "cell_type": "code",
   "execution_count": null,
   "id": "1225c3bf-5c28-4679-ba87-90e079d08124",
   "metadata": {},
   "outputs": [],
   "source": [
    "#check \n",
    "\n",
    "dfand.head()"
   ]
  },
  {
   "cell_type": "code",
   "execution_count": null,
   "id": "22fed6eb-6f74-4290-9f56-3ab9846fc134",
   "metadata": {},
   "outputs": [],
   "source": [
    "dfand=dfand[(dfand['Country']==\"MT\") | \n",
    "            (dfand['Country']==\"US\") |\n",
    "            (dfand['Country']==\"DE\") |\n",
    "            (dfand['Country']==\"IL\") |\n",
    "            (dfand['Country']==\"GB\") |\n",
    "            (dfand['Country']==\"BR\") |\n",
    "            (dfand['Country']==\"IE\") |\n",
    "            (dfand['Country']==\"PT\") |\n",
    "            (dfand['Country']==\"ES\") |\n",
    "            (dfand['Country']==\"IT\") |\n",
    "            (dfand['Country']==\"IN\") |\n",
    "            (dfand['Country']==\"FR\") |     \n",
    "            (dfand['Country']==\"NZ\") |\n",
    "            (dfand['Country']==\"TR\") |\n",
    "            (dfand['Country']==\"AR\") |\n",
    "             (dfand['Country']==\"CO\") |\n",
    "            (dfand['Country']==\"PL\") |\n",
    "            (dfand['Country']==\"MX\") |\n",
    "            (dfand['Country']==\"CA\") |\n",
    "            (dfand['Country']==\"NL\") |\n",
    "            (dfand['Country']==\"ZA\") |\n",
    "            (dfand['Country']==\"ID\") |\n",
    "            (dfand['Country']==\"PH\") |\n",
    "             (dfand['Country']==\"HU\") |\n",
    "            (dfand['Country']==\"TH\") |\n",
    "            (dfand['Country']==\"CN\") | \n",
    "            (dfand['Country']==\"HK\") |\n",
    "             (dfand['Country']==\"SE\") |\n",
    "            (dfand['Country']==\"RU\") |\n",
    "              (dfand['Country']==\"AU\") ]"
   ]
  },
  {
   "cell_type": "code",
   "execution_count": null,
   "id": "5a812978-d739-4a1a-9ef1-68b17e1b4cc2",
   "metadata": {},
   "outputs": [],
   "source": [
    "# CSV\n",
    "\n",
    "dfand.to_csv('category_downl_android_daily.csv', index=False)"
   ]
  }
 ],
 "metadata": {
  "kernelspec": {
   "display_name": "Python 3 (ipykernel)",
   "language": "python",
   "name": "python3"
  },
  "language_info": {
   "codemirror_mode": {
    "name": "ipython",
    "version": 3
   },
   "file_extension": ".py",
   "mimetype": "text/x-python",
   "name": "python",
   "nbconvert_exporter": "python",
   "pygments_lexer": "ipython3",
   "version": "3.11.5"
  }
 },
 "nbformat": 4,
 "nbformat_minor": 5
}
